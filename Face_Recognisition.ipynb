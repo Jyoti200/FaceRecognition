{
 "cells": [
  {
   "cell_type": "code",
   "execution_count": 15,
   "metadata": {
    "colab": {
     "base_uri": "https://localhost:8080/",
     "height": 35
    },
    "id": "vKnAsnjfL2JY",
    "outputId": "6863735d-f078-4d8f-cca0-376c438bf437"
   },
   "outputs": [
    {
     "data": {
      "text/plain": [
       "'C:\\\\Users\\\\91954\\\\Downloads'"
      ]
     },
     "execution_count": 15,
     "metadata": {},
     "output_type": "execute_result"
    }
   ],
   "source": [
    "import os\n",
    "os.getcwd()"
   ]
  },
  {
   "cell_type": "code",
   "execution_count": 4,
   "metadata": {
    "id": "HmFKFpJ1M2dL"
   },
   "outputs": [],
   "source": [
    "import tensorflow as tf\n",
    "from tensorflow import keras\n",
    "from keras import datasets , layers, models\n",
    "from keras.layers import Input, Lambda, Dense, Flatten, Conv2D, MaxPooling2D\n",
    "from keras.models import Model\n",
    "from keras.applications.vgg16 import VGG16\n",
    "from keras.preprocessing import image\n",
    "from keras.preprocessing.image import ImageDataGenerator\n",
    "from keras.models import Sequential\n",
    "\n",
    "import numpy as np\n",
    "import pandas as pd\n",
    "import matplotlib.pyplot as plt\n",
    "from glob import glob"
   ]
  },
  {
   "cell_type": "code",
   "execution_count": 49,
   "metadata": {
    "id": "5EOBjF-VL7uC"
   },
   "outputs": [],
   "source": [
    "Image_size = [224, 224]\n",
    "train_path = r\"C:\\Users\\91954\\Downloads\\Computer vision\\Train\\Train\"\n",
    "test_path = r\"C:\\Users\\91954\\Downloads\\Computer vision\\Test\""
   ]
  },
  {
   "cell_type": "code",
   "execution_count": 50,
   "metadata": {
    "id": "Zy-y3IsFL7xX"
   },
   "outputs": [],
   "source": [
    "vgg = VGG16(input_shape=Image_size + [3], weights='imagenet', include_top=False)\n",
    "for layer in vgg.layers:\n",
    "    layer.trainable = False"
   ]
  },
  {
   "cell_type": "code",
   "execution_count": 51,
   "metadata": {
    "colab": {
     "base_uri": "https://localhost:8080/"
    },
    "id": "0_66DEJkPcVM",
    "outputId": "0982b820-7165-432a-e988-efac18efdcd8"
   },
   "outputs": [
    {
     "data": {
      "text/plain": [
       "['C:\\\\Users\\\\91954\\\\Downloads\\\\Computer vision\\\\Train\\\\Train\\\\emilia-clarke',\n",
       " 'C:\\\\Users\\\\91954\\\\Downloads\\\\Computer vision\\\\Train\\\\Train\\\\justin',\n",
       " 'C:\\\\Users\\\\91954\\\\Downloads\\\\Computer vision\\\\Train\\\\Train\\\\kit-harington',\n",
       " 'C:\\\\Users\\\\91954\\\\Downloads\\\\Computer vision\\\\Train\\\\Train\\\\nikolaj-coster-waldau',\n",
       " 'C:\\\\Users\\\\91954\\\\Downloads\\\\Computer vision\\\\Train\\\\Train\\\\peter-dinklage']"
      ]
     },
     "execution_count": 51,
     "metadata": {},
     "output_type": "execute_result"
    }
   ],
   "source": [
    "folders = glob(r'C:\\Users\\91954\\Downloads\\Computer vision\\Train\\Train/*')\n",
    "folders"
   ]
  },
  {
   "cell_type": "code",
   "execution_count": 52,
   "metadata": {
    "colab": {
     "base_uri": "https://localhost:8080/"
    },
    "id": "kURWhJ2dPpx4",
    "outputId": "262a8e51-3762-4895-9bdc-bd20d8f7b9ca"
   },
   "outputs": [
    {
     "name": "stdout",
     "output_type": "stream",
     "text": [
      "Model: \"model_1\"\n",
      "_________________________________________________________________\n",
      " Layer (type)                Output Shape              Param #   \n",
      "=================================================================\n",
      " input_2 (InputLayer)        [(None, 224, 224, 3)]     0         \n",
      "                                                                 \n",
      " block1_conv1 (Conv2D)       (None, 224, 224, 64)      1792      \n",
      "                                                                 \n",
      " block1_conv2 (Conv2D)       (None, 224, 224, 64)      36928     \n",
      "                                                                 \n",
      " block1_pool (MaxPooling2D)  (None, 112, 112, 64)      0         \n",
      "                                                                 \n",
      " block2_conv1 (Conv2D)       (None, 112, 112, 128)     73856     \n",
      "                                                                 \n",
      " block2_conv2 (Conv2D)       (None, 112, 112, 128)     147584    \n",
      "                                                                 \n",
      " block2_pool (MaxPooling2D)  (None, 56, 56, 128)       0         \n",
      "                                                                 \n",
      " block3_conv1 (Conv2D)       (None, 56, 56, 256)       295168    \n",
      "                                                                 \n",
      " block3_conv2 (Conv2D)       (None, 56, 56, 256)       590080    \n",
      "                                                                 \n",
      " block3_conv3 (Conv2D)       (None, 56, 56, 256)       590080    \n",
      "                                                                 \n",
      " block3_pool (MaxPooling2D)  (None, 28, 28, 256)       0         \n",
      "                                                                 \n",
      " block4_conv1 (Conv2D)       (None, 28, 28, 512)       1180160   \n",
      "                                                                 \n",
      " block4_conv2 (Conv2D)       (None, 28, 28, 512)       2359808   \n",
      "                                                                 \n",
      " block4_conv3 (Conv2D)       (None, 28, 28, 512)       2359808   \n",
      "                                                                 \n",
      " block4_pool (MaxPooling2D)  (None, 14, 14, 512)       0         \n",
      "                                                                 \n",
      " block5_conv1 (Conv2D)       (None, 14, 14, 512)       2359808   \n",
      "                                                                 \n",
      " block5_conv2 (Conv2D)       (None, 14, 14, 512)       2359808   \n",
      "                                                                 \n",
      " block5_conv3 (Conv2D)       (None, 14, 14, 512)       2359808   \n",
      "                                                                 \n",
      " block5_pool (MaxPooling2D)  (None, 7, 7, 512)         0         \n",
      "                                                                 \n",
      " flatten_1 (Flatten)         (None, 25088)             0         \n",
      "                                                                 \n",
      " dense_1 (Dense)             (None, 5)                 125445    \n",
      "                                                                 \n",
      "=================================================================\n",
      "Total params: 14840133 (56.61 MB)\n",
      "Trainable params: 125445 (490.02 KB)\n",
      "Non-trainable params: 14714688 (56.13 MB)\n",
      "_________________________________________________________________\n"
     ]
    }
   ],
   "source": [
    "x = Flatten()(vgg.output)\n",
    "prediction = Dense(len(folders), activation='softmax')(x)\n",
    "model = Model(inputs=vgg.input, outputs=prediction)\n",
    "model.summary()"
   ]
  },
  {
   "cell_type": "code",
   "execution_count": 53,
   "metadata": {
    "id": "U3Bvjdd2L700"
   },
   "outputs": [],
   "source": [
    "model.compile(optimizer='adam', loss='categorical_crossentropy', metrics =['accuracy'])"
   ]
  },
  {
   "cell_type": "code",
   "execution_count": 62,
   "metadata": {},
   "outputs": [],
   "source": [
    "train_datagen = ImageDataGenerator(\n",
    "    rescale=1./255,\n",
    "    shear_range=0.2,          # Shear transformations\n",
    "    zoom_range=0.2,           # Zoom into images by up to 20%\n",
    "    horizontal_flip=True,     # Flip images horizontally\n",
    "    )"
   ]
  },
  {
   "cell_type": "code",
   "execution_count": 63,
   "metadata": {
    "id": "wfEownqVL73n"
   },
   "outputs": [],
   "source": [
    "test_datagen = ImageDataGenerator(rescale=1./255)"
   ]
  },
  {
   "cell_type": "code",
   "execution_count": 64,
   "metadata": {
    "colab": {
     "base_uri": "https://localhost:8080/"
    },
    "id": "0NDcy4ElL76c",
    "outputId": "fc1a8997-92e7-48e1-c24e-fae627eb2968"
   },
   "outputs": [
    {
     "name": "stdout",
     "output_type": "stream",
     "text": [
      "Found 32 images belonging to 5 classes.\n",
      "Found 5 images belonging to 5 classes.\n"
     ]
    }
   ],
   "source": [
    "training_dataset = train_datagen.flow_from_directory(r\"C:\\Users\\91954\\Downloads\\Computer vision\\Train\\Train\",\n",
    "                                                     target_size=(224,224), batch_size=32,\n",
    "                                                     class_mode='categorical')\n",
    "\n",
    "test_dataset = test_datagen.flow_from_directory(r\"C:\\Users\\91954\\Downloads\\Computer vision\\Test\",\n",
    "                                                target_size=(224,224), batch_size=32,\n",
    "                                                class_mode ='categorical')"
   ]
  },
  {
   "cell_type": "code",
   "execution_count": 65,
   "metadata": {
    "colab": {
     "base_uri": "https://localhost:8080/"
    },
    "id": "TbDvJVGXL79M",
    "outputId": "51935ae0-ec7d-45d0-fd23-c325c9255941",
    "scrolled": true
   },
   "outputs": [
    {
     "name": "stdout",
     "output_type": "stream",
     "text": [
      "Epoch 1/10\n",
      "1/1 [==============================] - 23s 23s/step - loss: 0.6670 - accuracy: 0.7188 - val_loss: 1.2042 - val_accuracy: 0.4000\n",
      "Epoch 2/10\n",
      "1/1 [==============================] - 21s 21s/step - loss: 0.6029 - accuracy: 0.7188 - val_loss: 0.7675 - val_accuracy: 0.6000\n",
      "Epoch 3/10\n",
      "1/1 [==============================] - 21s 21s/step - loss: 0.3484 - accuracy: 0.9375 - val_loss: 0.4149 - val_accuracy: 1.0000\n",
      "Epoch 4/10\n",
      "1/1 [==============================] - 21s 21s/step - loss: 0.2459 - accuracy: 0.9375 - val_loss: 0.2968 - val_accuracy: 1.0000\n",
      "Epoch 5/10\n",
      "1/1 [==============================] - 21s 21s/step - loss: 0.2505 - accuracy: 0.9375 - val_loss: 0.2838 - val_accuracy: 0.8000\n",
      "Epoch 6/10\n",
      "1/1 [==============================] - 21s 21s/step - loss: 0.2051 - accuracy: 0.9062 - val_loss: 0.2701 - val_accuracy: 0.8000\n",
      "Epoch 7/10\n",
      "1/1 [==============================] - 21s 21s/step - loss: 0.2053 - accuracy: 0.9375 - val_loss: 0.2290 - val_accuracy: 1.0000\n",
      "Epoch 8/10\n",
      "1/1 [==============================] - 21s 21s/step - loss: 0.2017 - accuracy: 0.9375 - val_loss: 0.1727 - val_accuracy: 1.0000\n",
      "Epoch 9/10\n",
      "1/1 [==============================] - 21s 21s/step - loss: 0.1397 - accuracy: 0.9688 - val_loss: 0.1158 - val_accuracy: 1.0000\n",
      "Epoch 10/10\n",
      "1/1 [==============================] - 21s 21s/step - loss: 0.1310 - accuracy: 1.0000 - val_loss: 0.0730 - val_accuracy: 1.0000\n"
     ]
    },
    {
     "data": {
      "text/plain": [
       "<keras.src.callbacks.History at 0x20267711610>"
      ]
     },
     "execution_count": 65,
     "metadata": {},
     "output_type": "execute_result"
    }
   ],
   "source": [
    "from keras.callbacks import EarlyStopping\n",
    "\n",
    "model.fit(training_dataset, validation_data=test_dataset, epochs=10,\n",
    "                                  steps_per_epoch= len(training_dataset),validation_steps=len(test_dataset))\n"
   ]
  },
  {
   "cell_type": "code",
   "execution_count": 67,
   "metadata": {
    "colab": {
     "base_uri": "https://localhost:8080/",
     "height": 430
    },
    "id": "H63e_pvhL8AU",
    "outputId": "09dcb893-238b-452a-8822-6b0fbdf071d7"
   },
   "outputs": [
    {
     "data": {
      "image/png": "[encoded data removed]",
      "text/plain": [
       "<Figure size 432x288 with 1 Axes>"
      ]
     },
     "metadata": {
      "needs_background": "light"
     },
     "output_type": "display_data"
    }
   ],
   "source": [
    "plt.plot(final_model.history['loss'], label='train loss')\n",
    "plt.plot(final_model.history['val_loss'], label='val_loss')\n",
    "plt.legend()\n",
    "plt.show()"
   ]
  },
  {
   "cell_type": "code",
   "execution_count": 68,
   "metadata": {
    "colab": {
     "base_uri": "https://localhost:8080/",
     "height": 430
    },
    "id": "UTLZ0UVKY6Ht",
    "outputId": "dccce7fc-ebfc-4ff4-b6c0-12d8ddd05ad3"
   },
   "outputs": [
    {
     "data": {
      "image/png": "[encoded data removed]",
      "text/plain": [
       "<Figure size 432x288 with 1 Axes>"
      ]
     },
     "metadata": {
      "needs_background": "light"
     },
     "output_type": "display_data"
    }
   ],
   "source": [
    "plt.plot(final_model.history['accuracy'], label='train accuracy')\n",
    "plt.plot(final_model.history['val_accuracy'], label='val_accuracy')\n",
    "plt.legend()\n",
    "plt.show()"
   ]
  },
  {
   "cell_type": "code",
   "execution_count": 69,
   "metadata": {
    "id": "jshFGClUL8C-"
   },
   "outputs": [],
   "source": [
    "# Save the model for computer vision\n",
    "from keras.models import load_model\n",
    "model.save(\"my_own_model.h5\")"
   ]
  },
  {
   "cell_type": "code",
   "execution_count": 72,
   "metadata": {},
   "outputs": [
    {
     "name": "stdout",
     "output_type": "stream",
     "text": [
      "1/1 [==============================] - 1s 979ms/step\n",
      "Predicted class label: Kit\n"
     ]
    }
   ],
   "source": [
    "from keras.models import load_model\n",
    "from keras.preprocessing import image\n",
    "import numpy as np\n",
    "\n",
    "# Load the saved model\n",
    "model = load_model(\"my_own_model.h5\")\n",
    "\n",
    "# Load the class labels used during training\n",
    "class_labels = [\"Emilia\", \"justin\",\"Nikolaj\", \"Kit\",\"peter\"] \n",
    "\n",
    "# Function to preprocess image\n",
    "def preprocess_image(image_path):\n",
    "    img = image.load_img(image_path, target_size=(224, 224))\n",
    "    img_array = image.img_to_array(img)\n",
    "    img_array = np.expand_dims(img_array, axis=0)\n",
    "   \n",
    "    return img_array\n",
    "\n",
    "# Path to your custom image\n",
    "custom_image_path = r\"C:\\Users\\91954\\Downloads\\kit.jpg\"\n",
    "\n",
    "# Preprocess the custom image\n",
    "processed_image = preprocess_image(custom_image_path)\n",
    "\n",
    "# Make predictions\n",
    "predictions = model.predict(processed_image)\n",
    "\n",
    "# Get the index of the predicted class\n",
    "predicted_class_index = np.argmax(predictions)\n",
    "\n",
    "# Get the label of the predicted class\n",
    "predicted_class_label = class_labels[predicted_class_index]\n",
    "\n",
    "# Print the predicted class label\n",
    "print(\"Predicted class label:\", predicted_class_label)\n"
   ]
  },
  {
   "cell_type": "markdown",
   "metadata": {
    "id": "uN-BK1VePzdj"
   },
   "source": [
    "# Collect Images for Face Recognition"
   ]
  },
  {
   "cell_type": "code",
   "execution_count": 28,
   "metadata": {
    "id": "sE0a9oNmPzdm"
   },
   "outputs": [],
   "source": [
    "import numpy as np\n",
    "import cv2"
   ]
  },
  {
   "cell_type": "code",
   "execution_count": 37,
   "metadata": {
    "id": "6NJrX3aZPzdm",
    "outputId": "c22b9497-3aa7-402a-d120-511e6fc1b9e0"
   },
   "outputs": [
    {
     "name": "stderr",
     "output_type": "stream",
     "text": [
      "<>:10: SyntaxWarning: \"is\" with a literal. Did you mean \"==\"?\n",
      "<>:10: SyntaxWarning: \"is\" with a literal. Did you mean \"==\"?\n",
      "<ipython-input-37-d9f0678dd347>:10: SyntaxWarning: \"is\" with a literal. Did you mean \"==\"?\n",
      "  if faces is ():\n"
     ]
    },
    {
     "name": "stdout",
     "output_type": "stream",
     "text": [
      "Face not found\n",
      "Face not found\n",
      "Face not found\n",
      "Face not found\n",
      "Face not found\n",
      "Face not found\n",
      "Face not found\n",
      "Face not found\n",
      "Face not found\n",
      "Face not found\n",
      "Face not found\n",
      "Face not found\n",
      "Face not found\n",
      "Face not found\n",
      "Face not found\n",
      "Face not found\n",
      "Face not found\n",
      "Face not found\n",
      "Face not found\n",
      "Face not found\n",
      "Face not found\n",
      "Face not found\n",
      "Face not found\n",
      "Face not found\n",
      "Face not found\n",
      "Face not found\n",
      "Face not found\n",
      "Face not found\n",
      "Face not found\n",
      "Face not found\n",
      "Face not found\n",
      "Face not found\n",
      "Face not found\n",
      "Face not found\n",
      "Face not found\n",
      "Face not found\n",
      "Face not found\n",
      "Face not found\n",
      "Face not found\n",
      "Face not found\n",
      "Face not found\n",
      "Face not found\n",
      "Face not found\n",
      "Face not found\n",
      "Face not found\n",
      "Face not found\n",
      "Face not found\n",
      "Face not found\n",
      "Face not found\n",
      "Face not found\n",
      "Face not found\n",
      "Face not found\n",
      "Face not found\n",
      "Face not found\n",
      "Face not found\n",
      "Face not found\n",
      "Face not found\n",
      "Face not found\n",
      "Face not found\n",
      "Face not found\n",
      "Face not found\n",
      "Face not found\n",
      "Face not found\n",
      "Face not found\n",
      "Face not found\n",
      "Face not found\n",
      "Face not found\n",
      "Face not found\n",
      "Face not found\n",
      "Face not found\n",
      "Face not found\n",
      "Face not found\n",
      "Face not found\n",
      "Face not found\n",
      "Face not found\n",
      "Face not found\n",
      "Face not found\n",
      "Face not found\n",
      "Face not found\n",
      "Face not found\n",
      "My pics sample collection completed.\n"
     ]
    }
   ],
   "source": [
    "# Load HaarCasecade file for face recognition\n",
    "face_classifier = cv2.CascadeClassifier(r\"C:\\Users\\91954\\Downloads\\image\\haarcascade_frontalface_default.xml\")\n",
    "\n",
    "# Create function for face extraction\n",
    "\n",
    "def face_extractor(img):\n",
    "    #gray = cv2.cvtColor(img, cv2.COLOR_BGR2GRAY)\n",
    "    faces = face_classifier.detectMultiScale(img, 1.3, 5)\n",
    "\n",
    "    if faces is ():\n",
    "        return None\n",
    "\n",
    "    # crop all faces - if found\n",
    "    for (x,y, w, h) in faces:\n",
    "        x = x-10\n",
    "        y = y -10\n",
    "        cropped_face = img[y:y+h+50, x:x+w+50]\n",
    "    return cropped_face\n",
    "\n",
    "# Enabled webcam\n",
    "cap = cv2.VideoCapture(0)\n",
    "count = 0\n",
    "\n",
    "# collect 200 samples of your face from webcam input\n",
    "\n",
    "while True:\n",
    "    ret, frame = cap.read()\n",
    "    if face_extractor(frame) is not None:\n",
    "        count +=1\n",
    "        face = cv2.resize(face_extractor(frame), (400,400))\n",
    "        #face = cv2.cvtColor(face, cv2.COLOR_BGR2GRAY)\n",
    "\n",
    "        # Save the image into the given folder\n",
    "        file_name_path = './image/' + str(count) +'.jpg'\n",
    "        cv2.imwrite(file_name_path, face)\n",
    "\n",
    "        # Put count on image and display live count\n",
    "        cv2.putText(face, str(count), (50, 50), cv2.FONT_HERSHEY_COMPLEX, 1,(0,255,0),2)\n",
    "        cv2.imshow(\"My Face Cropper\", face)\n",
    "    else:\n",
    "        print(\"Face not found\")\n",
    "        pass\n",
    "\n",
    "    if cv2.waitKey(1)==13 or count == 100:\n",
    "        break\n",
    "\n",
    "cap.release()\n",
    "cv2.destroyAllWindows()\n",
    "print(\"My pics sample collection completed.\")"
   ]
  },
  {
   "cell_type": "code",
   "execution_count": 27,
   "metadata": {
    "id": "FHbphhidPzde"
   },
   "outputs": [],
   "source": [
    "from PIL import Image\n",
    "from keras.applications.vgg16 import preprocess_input\n",
    "from keras.models import load_model"
   ]
  },
  {
   "cell_type": "code",
   "execution_count": 39,
   "metadata": {
    "id": "tgqVbb7EPzdf"
   },
   "outputs": [
    {
     "name": "stderr",
     "output_type": "stream",
     "text": [
      "<>:10: SyntaxWarning: \"is\" with a literal. Did you mean \"==\"?\n",
      "<>:10: SyntaxWarning: \"is\" with a literal. Did you mean \"==\"?\n",
      "<ipython-input-39-7241eccc4f48>:10: SyntaxWarning: \"is\" with a literal. Did you mean \"==\"?\n",
      "  if faces is ():\n"
     ]
    },
    {
     "name": "stdout",
     "output_type": "stream",
     "text": [
      "1/1 [==============================] - 0s 438ms/step\n",
      "1/1 [==============================] - 0s 274ms/step\n",
      "1/1 [==============================] - 0s 279ms/step\n",
      "1/1 [==============================] - 0s 279ms/step\n",
      "1/1 [==============================] - 0s 270ms/step\n",
      "1/1 [==============================] - 0s 253ms/step\n",
      "1/1 [==============================] - 0s 280ms/step\n",
      "1/1 [==============================] - 0s 255ms/step\n",
      "1/1 [==============================] - 0s 254ms/step\n",
      "1/1 [==============================] - 0s 253ms/step\n",
      "1/1 [==============================] - 0s 262ms/step\n",
      "1/1 [==============================] - 0s 258ms/step\n",
      "1/1 [==============================] - 0s 277ms/step\n",
      "1/1 [==============================] - 0s 255ms/step\n",
      "1/1 [==============================] - 0s 247ms/step\n",
      "1/1 [==============================] - 0s 252ms/step\n",
      "1/1 [==============================] - 0s 248ms/step\n",
      "1/1 [==============================] - 0s 247ms/step\n",
      "1/1 [==============================] - 0s 248ms/step\n",
      "1/1 [==============================] - 0s 305ms/step\n",
      "1/1 [==============================] - 0s 285ms/step\n",
      "1/1 [==============================] - 0s 251ms/step\n",
      "1/1 [==============================] - 0s 308ms/step\n",
      "1/1 [==============================] - 0s 246ms/step\n",
      "1/1 [==============================] - 0s 249ms/step\n",
      "1/1 [==============================] - 0s 248ms/step\n",
      "1/1 [==============================] - 0s 261ms/step\n",
      "1/1 [==============================] - 0s 256ms/step\n",
      "1/1 [==============================] - 0s 275ms/step\n",
      "1/1 [==============================] - 0s 250ms/step\n",
      "1/1 [==============================] - 0s 261ms/step\n",
      "1/1 [==============================] - 0s 257ms/step\n",
      "1/1 [==============================] - 0s 325ms/step\n",
      "1/1 [==============================] - 0s 242ms/step\n",
      "1/1 [==============================] - 0s 251ms/step\n"
     ]
    }
   ],
   "source": [
    "import cv2\n",
    "import numpy as np\n",
    "\n",
    "face_classifier = cv2.CascadeClassifier(r\"C:\\Users\\91954\\Downloads\\image\\haarcascade_frontalface_default.xml\")\n",
    "\n",
    "def face_extractor(img):\n",
    "    #gray = cv2.cvtColor(img, cv2.COLOR_BGR2GRAY)\n",
    "    faces = face_classifier.detectMultiScale(img, 1.3, 5)\n",
    "\n",
    "    if faces is ():\n",
    "        return None\n",
    "    # crop all faces - if found\n",
    "    for (x,y, w, h) in faces:\n",
    "        cv2.rectangle(img, (x,y),(x+w, y+h), (0,255,255), 2)\n",
    "        cropped_face = img[y:y+h, x:x+h]\n",
    "    return cropped_face\n",
    "\n",
    "video_capture = cv2.VideoCapture(0)\n",
    "while True:\n",
    "    _, frame = video_capture.read()\n",
    "    face = face_extractor(frame)\n",
    "    if type(face) is np.ndarray:\n",
    "        face = cv2.resize(face, (224,224))\n",
    "        im = Image.fromarray(face, 'RGB')\n",
    "        img_array = np.array(im)\n",
    "        img_array = np.expand_dims(img_array, axis=0)\n",
    "        pred = model.predict(img_array)\n",
    "        name = \"Can't Predict!!\"\n",
    "        if(pred[0][1]>0.5):\n",
    "            name =\"Jyoti\"\n",
    "        cv2.putText(frame, name, (50,50), cv2.FONT_HERSHEY_COMPLEX, 1,(0,255,0),2)\n",
    "    else:\n",
    "        cv2.putText(frame, \"No face found\", (50,50), cv2.FONT_HERSHEY_COMPLEX, 1,(0,255,0),2)\n",
    "    cv2.imshow(\"Person name\", frame )\n",
    "\n",
    "    key = cv2.waitKey(1)\n",
    "    if key ==ord('q'):\n",
    "        break\n",
    "\n",
    "video_capture.release()\n",
    "cv2.destroyAllWindows()"
   ]
  },
  {
   "cell_type": "code",
   "execution_count": 40,
   "metadata": {
    "id": "fY81pPngPzdq"
   },
   "outputs": [],
   "source": [
    "face_cascade = cv2.CascadeClassifier(r\"C:\\Users\\91954\\Downloads\\image\\haarcascade_frontalface_default.xml\")\n",
    "eye_cascade = cv2.CascadeClassifier(r\"C:\\Users\\91954\\Downloads\\haarcascade_eye_tree_eyeglasses.xml\")\n",
    "\n",
    "def detect(gray, frame):\n",
    "    faces = face_cascade.detectMultiScale(gray, scaleFactor = 1.05, minNeighbors = 5)\n",
    "\n",
    "    for (x,y, w,h) in faces:\n",
    "        cv2.rectangle(frame, (x,y),(x+w, y+h), (0,255,0),3)\n",
    "        roi_gray = gray[y:y+h, x:x+w]\n",
    "        roi_color = frame[y:y+h, x:x+w]\n",
    "        eyes = eye_cascade.detectMultiScale(roi_gray, 1.1, 2)\n",
    "\n",
    "        for (ex, ey, ew, eh) in eyes:\n",
    "            cv2.rectangle(roi_color, (ex, ey),(ex+ew, ey+eh), (0,255,111),2)\n",
    "    return frame\n",
    "\n",
    "video = cv2.VideoCapture(0)\n",
    "while True:\n",
    "    check, frame = video.read()\n",
    "    gray = cv2.cvtColor(frame, cv2.COLOR_BGR2RGB)\n",
    "    detection = detect(gray, frame)\n",
    "    cv2.imshow(\"detect my face and eye by using webcam\", detection)\n",
    "\n",
    "    key = cv2.waitKey(1)\n",
    "    if key ==ord('q'):\n",
    "        break\n",
    "\n",
    "video.release()\n",
    "cv2.destroyAllWindows()"
   ]
  },
  {
   "cell_type": "code",
   "execution_count": null,
   "metadata": {
    "id": "AKAARoo8Pzdv"
   },
   "outputs": [],
   "source": []
  },
  {
   "cell_type": "code",
   "execution_count": null,
   "metadata": {
    "id": "Ra-8Zi4BPzdv"
   },
   "outputs": [],
   "source": []
  },
  {
   "cell_type": "code",
   "execution_count": null,
   "metadata": {
    "id": "pJv43b4cPzdw"
   },
   "outputs": [],
   "source": []
  },
  {
   "cell_type": "code",
   "execution_count": null,
   "metadata": {
    "id": "uLUombkIPzdy"
   },
   "outputs": [],
   "source": []
  }
 ],
 "metadata": {
  "accelerator": "GPU",
  "colab": {
   "provenance": []
  },
  "gpuClass": "standard",
  "kernelspec": {
   "display_name": "Python 3",
   "language": "python",
   "name": "python3"
  },
  "language_info": {
   "codemirror_mode": {
    "name": "ipython",
    "version": 3
   },
   "file_extension": ".py",
   "mimetype": "text/x-python",
   "name": "python",
   "nbconvert_exporter": "python",
   "pygments_lexer": "ipython3",
   "version": "3.8.8"
  }
 },
 "nbformat": 4,
 "nbformat_minor": 1
}
